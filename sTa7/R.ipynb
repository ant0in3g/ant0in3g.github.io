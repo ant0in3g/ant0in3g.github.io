{
 "cells": [
  {
   "cell_type": "code",
   "execution_count": 1,
   "id": "000b0317-e544-41cb-b87f-936d15a5f9c3",
   "metadata": {},
   "outputs": [],
   "source": [
    "a=c(\"lannister\", \"targaryen\", \"baratheon\", \"starck\", \"greyjoy\")"
   ]
  },
  {
   "cell_type": "code",
   "execution_count": 2,
   "id": "cc7f721b-c0c0-4a85-bb10-b98910c7d3df",
   "metadata": {},
   "outputs": [
    {
     "data": {
      "text/html": [
       "5"
      ],
      "text/latex": [
       "5"
      ],
      "text/markdown": [
       "5"
      ],
      "text/plain": [
       "[1] 5"
      ]
     },
     "metadata": {},
     "output_type": "display_data"
    }
   ],
   "source": [
    "length(a)"
   ]
  },
  {
   "cell_type": "code",
   "execution_count": 3,
   "id": "94a27293-6b83-41f5-a56c-8adf464a08dd",
   "metadata": {},
   "outputs": [
    {
     "data": {
      "text/html": [
       "<style>\n",
       ".list-inline {list-style: none; margin:0; padding: 0}\n",
       ".list-inline>li {display: inline-block}\n",
       ".list-inline>li:not(:last-child)::after {content: \"\\00b7\"; padding: 0 .5ex}\n",
       "</style>\n",
       "<ol class=list-inline><li>'lannister'</li><li>'targaryen'</li><li>'baratheon'</li></ol>\n"
      ],
      "text/latex": [
       "\\begin{enumerate*}\n",
       "\\item 'lannister'\n",
       "\\item 'targaryen'\n",
       "\\item 'baratheon'\n",
       "\\end{enumerate*}\n"
      ],
      "text/markdown": [
       "1. 'lannister'\n",
       "2. 'targaryen'\n",
       "3. 'baratheon'\n",
       "\n",
       "\n"
      ],
      "text/plain": [
       "[1] \"lannister\" \"targaryen\" \"baratheon\""
      ]
     },
     "metadata": {},
     "output_type": "display_data"
    }
   ],
   "source": [
    "a[1:3]"
   ]
  },
  {
   "cell_type": "code",
   "execution_count": 4,
   "id": "bb5ea7e0-becd-4854-b25e-fe43c8b48d53",
   "metadata": {},
   "outputs": [
    {
     "data": {
      "text/html": [
       "<style>\n",
       ".list-inline {list-style: none; margin:0; padding: 0}\n",
       ".list-inline>li {display: inline-block}\n",
       ".list-inline>li:not(:last-child)::after {content: \"\\00b7\"; padding: 0 .5ex}\n",
       "</style>\n",
       "<ol class=list-inline><li>'baratheon'</li><li>'starck'</li><li>'greyjoy'</li></ol>\n"
      ],
      "text/latex": [
       "\\begin{enumerate*}\n",
       "\\item 'baratheon'\n",
       "\\item 'starck'\n",
       "\\item 'greyjoy'\n",
       "\\end{enumerate*}\n"
      ],
      "text/markdown": [
       "1. 'baratheon'\n",
       "2. 'starck'\n",
       "3. 'greyjoy'\n",
       "\n",
       "\n"
      ],
      "text/plain": [
       "[1] \"baratheon\" \"starck\"    \"greyjoy\"  "
      ]
     },
     "metadata": {},
     "output_type": "display_data"
    }
   ],
   "source": [
    "a[3:5]"
   ]
  },
  {
   "cell_type": "code",
   "execution_count": 5,
   "id": "6c9aafcb-b77e-4a33-903a-c4121c18b1a9",
   "metadata": {},
   "outputs": [],
   "source": [
    "b = a[c(1,4)]"
   ]
  },
  {
   "cell_type": "code",
   "execution_count": 6,
   "id": "7ec97395-f7e3-4493-9549-f4919c8053ba",
   "metadata": {},
   "outputs": [
    {
     "data": {
      "text/html": [
       "<style>\n",
       ".list-inline {list-style: none; margin:0; padding: 0}\n",
       ".list-inline>li {display: inline-block}\n",
       ".list-inline>li:not(:last-child)::after {content: \"\\00b7\"; padding: 0 .5ex}\n",
       "</style>\n",
       "<ol class=list-inline><li>'targaryen'</li><li>'baratheon'</li><li>'starck'</li><li>'greyjoy'</li></ol>\n"
      ],
      "text/latex": [
       "\\begin{enumerate*}\n",
       "\\item 'targaryen'\n",
       "\\item 'baratheon'\n",
       "\\item 'starck'\n",
       "\\item 'greyjoy'\n",
       "\\end{enumerate*}\n"
      ],
      "text/markdown": [
       "1. 'targaryen'\n",
       "2. 'baratheon'\n",
       "3. 'starck'\n",
       "4. 'greyjoy'\n",
       "\n",
       "\n"
      ],
      "text/plain": [
       "[1] \"targaryen\" \"baratheon\" \"starck\"    \"greyjoy\"  "
      ]
     },
     "metadata": {},
     "output_type": "display_data"
    }
   ],
   "source": [
    "a[-1]"
   ]
  },
  {
   "cell_type": "code",
   "execution_count": null,
   "id": "1d8c2bd9-bb0a-4577-aff8-aca44b217cbd",
   "metadata": {},
   "outputs": [],
   "source": []
  }
 ],
 "metadata": {
  "kernelspec": {
   "display_name": "R",
   "language": "R",
   "name": "ir"
  },
  "language_info": {
   "codemirror_mode": "r",
   "file_extension": ".r",
   "mimetype": "text/x-r-source",
   "name": "R",
   "pygments_lexer": "r",
   "version": "4.4.1"
  }
 },
 "nbformat": 4,
 "nbformat_minor": 5
}
