{
 "cells": [
  {
   "cell_type": "code",
   "execution_count": 1,
   "id": "000b0317-e544-41cb-b87f-936d15a5f9c3",
   "metadata": {},
   "outputs": [],
   "source": [
    "a=c(\"lannister\", \"targaryen\", \"baratheon\", \"starck\", \"greyjoy\")"
   ]
  },
  {
   "cell_type": "code",
   "execution_count": 2,
   "id": "cc7f721b-c0c0-4a85-bb10-b98910c7d3df",
   "metadata": {},
   "outputs": [
    {
     "data": {
      "text/html": [
       "5"
      ],
      "text/latex": [
       "5"
      ],
      "text/markdown": [
       "5"
      ],
      "text/plain": [
       "[1] 5"
      ]
     },
     "metadata": {},
     "output_type": "display_data"
    }
   ],
   "source": [
    "length(a)"
   ]
  },
  {
   "cell_type": "code",
   "execution_count": 3,
   "id": "94a27293-6b83-41f5-a56c-8adf464a08dd",
   "metadata": {},
   "outputs": [
    {
     "data": {
      "text/html": [
       "<style>\n",
       ".list-inline {list-style: none; margin:0; padding: 0}\n",
       ".list-inline>li {display: inline-block}\n",
       ".list-inline>li:not(:last-child)::after {content: \"\\00b7\"; padding: 0 .5ex}\n",
       "</style>\n",
       "<ol class=list-inline><li>'lannister'</li><li>'targaryen'</li><li>'baratheon'</li></ol>\n"
      ],
      "text/latex": [
       "\\begin{enumerate*}\n",
       "\\item 'lannister'\n",
       "\\item 'targaryen'\n",
       "\\item 'baratheon'\n",
       "\\end{enumerate*}\n"
      ],
      "text/markdown": [
       "1. 'lannister'\n",
       "2. 'targaryen'\n",
       "3. 'baratheon'\n",
       "\n",
       "\n"
      ],
      "text/plain": [
       "[1] \"lannister\" \"targaryen\" \"baratheon\""
      ]
     },
     "metadata": {},
     "output_type": "display_data"
    }
   ],
   "source": [
    "a[1:3]"
   ]
  },
  {
   "cell_type": "code",
   "execution_count": 4,
   "id": "bb5ea7e0-becd-4854-b25e-fe43c8b48d53",
   "metadata": {},
   "outputs": [
    {
     "data": {
      "text/html": [
       "<style>\n",
       ".list-inline {list-style: none; margin:0; padding: 0}\n",
       ".list-inline>li {display: inline-block}\n",
       ".list-inline>li:not(:last-child)::after {content: \"\\00b7\"; padding: 0 .5ex}\n",
       "</style>\n",
       "<ol class=list-inline><li>'baratheon'</li><li>'starck'</li><li>'greyjoy'</li></ol>\n"
      ],
      "text/latex": [
       "\\begin{enumerate*}\n",
       "\\item 'baratheon'\n",
       "\\item 'starck'\n",
       "\\item 'greyjoy'\n",
       "\\end{enumerate*}\n"
      ],
      "text/markdown": [
       "1. 'baratheon'\n",
       "2. 'starck'\n",
       "3. 'greyjoy'\n",
       "\n",
       "\n"
      ],
      "text/plain": [
       "[1] \"baratheon\" \"starck\"    \"greyjoy\"  "
      ]
     },
     "metadata": {},
     "output_type": "display_data"
    }
   ],
   "source": [
    "a[3:5]"
   ]
  },
  {
   "cell_type": "code",
   "execution_count": 5,
   "id": "6c9aafcb-b77e-4a33-903a-c4121c18b1a9",
   "metadata": {},
   "outputs": [],
   "source": [
    "b = a[c(1,4)]"
   ]
  },
  {
   "cell_type": "code",
   "execution_count": 6,
   "id": "7ec97395-f7e3-4493-9549-f4919c8053ba",
   "metadata": {},
   "outputs": [
    {
     "data": {
      "text/html": [
       "<style>\n",
       ".list-inline {list-style: none; margin:0; padding: 0}\n",
       ".list-inline>li {display: inline-block}\n",
       ".list-inline>li:not(:last-child)::after {content: \"\\00b7\"; padding: 0 .5ex}\n",
       "</style>\n",
       "<ol class=list-inline><li>'targaryen'</li><li>'baratheon'</li><li>'starck'</li><li>'greyjoy'</li></ol>\n"
      ],
      "text/latex": [
       "\\begin{enumerate*}\n",
       "\\item 'targaryen'\n",
       "\\item 'baratheon'\n",
       "\\item 'starck'\n",
       "\\item 'greyjoy'\n",
       "\\end{enumerate*}\n"
      ],
      "text/markdown": [
       "1. 'targaryen'\n",
       "2. 'baratheon'\n",
       "3. 'starck'\n",
       "4. 'greyjoy'\n",
       "\n",
       "\n"
      ],
      "text/plain": [
       "[1] \"targaryen\" \"baratheon\" \"starck\"    \"greyjoy\"  "
      ]
     },
     "metadata": {},
     "output_type": "display_data"
    }
   ],
   "source": [
    "a[-1]"
   ]
  },
  {
   "cell_type": "code",
   "execution_count": 7,
   "id": "1d8c2bd9-bb0a-4577-aff8-aca44b217cbd",
   "metadata": {},
   "outputs": [
    {
     "data": {
      "text/html": [
       "<style>\n",
       ".list-inline {list-style: none; margin:0; padding: 0}\n",
       ".list-inline>li {display: inline-block}\n",
       ".list-inline>li:not(:last-child)::after {content: \"\\00b7\"; padding: 0 .5ex}\n",
       "</style>\n",
       "<ol class=list-inline><li>'baratheon'</li><li>'greyjoy'</li><li>'lannister'</li><li>'starck'</li><li>'targaryen'</li></ol>\n"
      ],
      "text/latex": [
       "\\begin{enumerate*}\n",
       "\\item 'baratheon'\n",
       "\\item 'greyjoy'\n",
       "\\item 'lannister'\n",
       "\\item 'starck'\n",
       "\\item 'targaryen'\n",
       "\\end{enumerate*}\n"
      ],
      "text/markdown": [
       "1. 'baratheon'\n",
       "2. 'greyjoy'\n",
       "3. 'lannister'\n",
       "4. 'starck'\n",
       "5. 'targaryen'\n",
       "\n",
       "\n"
      ],
      "text/plain": [
       "[1] \"baratheon\" \"greyjoy\"   \"lannister\" \"starck\"    \"targaryen\""
      ]
     },
     "metadata": {},
     "output_type": "display_data"
    }
   ],
   "source": [
    "sort(a)"
   ]
  },
  {
   "cell_type": "markdown",
   "id": "057533ac-4c1a-4eb2-970e-d6750445ee69",
   "metadata": {},
   "source": [
    "# Prise en main de R"
   ]
  },
  {
   "cell_type": "markdown",
   "id": "29e9920e-ca91-463e-a359-cdd73d2e7772",
   "metadata": {},
   "source": [
    "# Quantile estimation via Stochastic gradient descent (Robbins Monro)\n",
    "\n",
    "Let $(X_n)_n$ be a sequence of i.i.d. real-valued random variables distributed like $X$. Let $(\\eta_n)_n$ be\n",
    "a non-increasing sequence of positive numbers (the step sizes). Finally, let\n",
    "$H:\\mathbb{R}^2\\mapsto\\mathbb{R}$ be a function. We consider the Robbins-Monro\n",
    "algorithm:\n",
    "\\begin{equation*}\n",
    "  x_{k+1}=x_k-\\gamma_{k}H(x_k,X_{k+1})\n",
    "\\end{equation*}and $x_0\\in\\mathbb{R}$ is the starting point of the algorithm.\n",
    "\n",
    "Let $p\\in(0,1)$. For the quantile estimation problem via the Robbins-Monro algorithm,\n",
    "we consider the function $$H(x,X)=I( X\\leq x)-p.$$ In this\n",
    "particular case, the RM algorithm is\n",
    "\\begin{equation*}\n",
    "  x_{k+1}=x_k-\\gamma_{k}\\big(I(X_{n+1}\\leq x_k)-p\\big) \\mbox{ and } x_0\\in\\mathbb{R}.\n",
    "\\end{equation*} \n",
    "We denote by $q_p$ the quantile of order $p$ of $X$:\n",
    "\\begin{equation*}\n",
    "  q_p = \\min\\big(x\\in\\mathbb{R}:F(x)\\geq p\\big) \\mbox{ where }\n",
    "  F(x)=\\mathbb{P}(X\\leq x).\n",
    "\\end{equation*}When $X$ has a cdf $F$ which is continuous and strictly increasing on some interval, $q_p$ is the unique solution to $F(x)=p$.\n",
    "\n",
    "The pseudo code of the algorithm stopped at step N is:\n",
    "\n",
    "&nbsp;&nbsp;&nbsp; 1: &nbsp; Choose initial guess $x_0$ <br>\n",
    "&nbsp;&nbsp;&nbsp;    2: &nbsp; <b>for</b> $k=1,2,\\ldots, N$ <b>do</b> <br>\n",
    "&nbsp;&nbsp;&nbsp;    3:   &nbsp;&nbsp;&nbsp;&nbsp;&nbsp; $s_k=I(X_{k+1}\\leq x_k)-p$ <br>\n",
    "&nbsp;&nbsp;&nbsp;    4:   &nbsp;&nbsp;&nbsp;&nbsp;&nbsp; $x_{k+1} = x_k - \\gamma_{k+1} s_k$ <br>\n",
    "&nbsp;&nbsp;&nbsp;    5: &nbsp;  <b>end for</b>\n",
    "\n",
    "Thanks to SGD, we can make progress right away and continue to make progress as we go through the data set. Therefore, stochastic gradient descent is often preferred to gradient descent or here to the empirical quantile when dealing with large data sets.\n",
    "\n",
    "Unlike gradient descent, stochastic gradient descent will tend to oscillate <i>near</i> a minimum value rather than continuously getting closer. It may never actually converge to the minimum though. One way around this is to slowly decrease the step size $\\gamma_k$ like $1/k$ as the algorithm runs."
   ]
  },
  {
   "cell_type": "code",
   "execution_count": null,
   "id": "14fbe7ef-619d-4250-a3d5-6ca29f4ab4e8",
   "metadata": {},
   "outputs": [],
   "source": []
  }
 ],
 "metadata": {
  "kernelspec": {
   "display_name": "R",
   "language": "R",
   "name": "ir"
  },
  "language_info": {
   "codemirror_mode": "r",
   "file_extension": ".r",
   "mimetype": "text/x-r-source",
   "name": "R",
   "pygments_lexer": "r",
   "version": "4.4.1"
  }
 },
 "nbformat": 4,
 "nbformat_minor": 5
}
