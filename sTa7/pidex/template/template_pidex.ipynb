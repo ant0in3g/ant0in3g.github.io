{
 "cells": [
  {
   "cell_type": "markdown",
   "id": "ce93b8da-890a-49f7-9103-021521d690d6",
   "metadata": {},
   "source": [
    "# **P**rojet d'**I**nitiation à la **D**émarche **Ex**périmentale (PIDEx)\n",
    "\n",
    "[ISTOM](https://www.istom.fr/) - Ecole Supérieure D'agro-Développement International \\\n",
    "Année universitaire 2023 - 2024 \n",
    "\n",
    "Travail réalisé par [etudiant](mailto:etudiant@istom.fr), [etudiant](mailto:etudiant@istom.fr), [etudiant](mailto:etudiant@istom.fr), [etudiant](mailto:etudiant@istom.fr), [etudiant](mailto:etudiant1@istom.fr), [etudiant](mailto:etudiant@istom.fr), [etudiant](mailto:etudiant@istom.fr), [etudiant](mailto:etudiant@istom.fr) et [etudiant](mailto:etudiant@istom.fr) \\\n",
    "Sous la direction de [Samuel Laboisse](mailto:s.laboisse@istom.fr) \\\n",
    "Corrigé par [Daniel Kalnin](mailto:d.kalnin@istom.fr) \\\n",
    "Mise en forme sous [Jupyter Notebook](https://jupyter.org/) par [Antoine Géré](mailto:a.gere@istom.fr) \n",
    "\n",
    "Les fichiers sources de ce travail sont disponible via ce [lien](https://github.com/ant0in3g/ant0in3g.github.io/tree/main/sTa7/pidex/template)"
   ]
  },
  {
   "cell_type": "code",
   "execution_count": null,
   "id": "b93ec556-938e-419b-94d2-7b2530cd44fe",
   "metadata": {},
   "outputs": [],
   "source": []
  }
 ],
 "metadata": {
  "kernelspec": {
   "display_name": "R",
   "language": "R",
   "name": "ir"
  },
  "language_info": {
   "codemirror_mode": "r",
   "file_extension": ".r",
   "mimetype": "text/x-r-source",
   "name": "R",
   "pygments_lexer": "r",
   "version": "4.4.1"
  }
 },
 "nbformat": 4,
 "nbformat_minor": 5
}
